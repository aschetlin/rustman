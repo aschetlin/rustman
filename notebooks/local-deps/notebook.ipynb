{
 "cells": [
  {
   "cell_type": "code",
   "execution_count": 2,
   "id": "b0f8c22a-7fce-4a40-91aa-0fd063154fbf",
   "metadata": {},
   "outputs": [
    {
     "data": {
      "text/plain": [
       "sccache: true\n"
      ]
     },
     "execution_count": 2,
     "metadata": {},
     "output_type": "execute_result"
    }
   ],
   "source": [
    ":sccache 1\n",
    ":dep rustman = { path = \"../..\" }"
   ]
  },
  {
   "cell_type": "code",
   "execution_count": 3,
   "id": "9bf18d4d-5d78-4b1c-8ee9-d32ad3349c1e",
   "metadata": {},
   "outputs": [],
   "source": [
    "use rustman::game::*;"
   ]
  },
  {
   "cell_type": "code",
   "execution_count": null,
   "id": "855cdc00-f26b-477e-88db-eb68190e2e8a",
   "metadata": {},
   "outputs": [
    {
     "name": "stdout",
     "output_type": "stream",
     "text": [
      "\u001b[2J\u001b[1;1H┌───────────────\n",
      "│           ▼\n",
      "│\n",
      "│\n",
      "│\n",
      "│\n",
      "│\n",
      "│\n",
      "│\n",
      "│\n",
      "│\n",
      "│\n",
      "│\n",
      "│\n",
      "│\n",
      "│\n",
      "│\n",
      "│\n",
      "│\n",
      "│\n",
      "\n",
      "_____ _______ ___ ____ __ _ _____ _______\n",
      "\n",
      "5 lives left.\n",
      "Enter a guess.\n"
     ]
    }
   ],
   "source": [
    "main();"
   ]
  }
 ],
 "metadata": {
  "kernelspec": {
   "display_name": "Rust",
   "language": "rust",
   "name": "rust"
  },
  "language_info": {
   "codemirror_mode": "rust",
   "file_extension": ".rs",
   "mimetype": "text/rust",
   "name": "Rust",
   "pygment_lexer": "rust",
   "version": ""
  }
 },
 "nbformat": 4,
 "nbformat_minor": 5
}
